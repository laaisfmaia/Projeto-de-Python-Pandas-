{
 "cells": [
  {
   "cell_type": "markdown",
   "id": "ed0c7be3",
   "metadata": {},
   "source": [
    "# Relatório de Análise IV"
   ]
  },
  {
   "cell_type": "markdown",
   "id": "fe18a21e",
   "metadata": {},
   "source": [
    "## Seleção e Frequências"
   ]
  },
  {
   "cell_type": "code",
   "execution_count": 1,
   "id": "bafae9ab",
   "metadata": {},
   "outputs": [],
   "source": [
    "import pandas as pd"
   ]
  },
  {
   "cell_type": "code",
   "execution_count": 3,
   "id": "78c3811e",
   "metadata": {},
   "outputs": [
    {
     "data": {
      "text/html": [
       "<div>\n",
       "<style scoped>\n",
       "    .dataframe tbody tr th:only-of-type {\n",
       "        vertical-align: middle;\n",
       "    }\n",
       "\n",
       "    .dataframe tbody tr th {\n",
       "        vertical-align: top;\n",
       "    }\n",
       "\n",
       "    .dataframe thead th {\n",
       "        text-align: right;\n",
       "    }\n",
       "</style>\n",
       "<table border=\"1\" class=\"dataframe\">\n",
       "  <thead>\n",
       "    <tr style=\"text-align: right;\">\n",
       "      <th></th>\n",
       "      <th>Unnamed: 0</th>\n",
       "      <th>Tipo</th>\n",
       "      <th>Bairro</th>\n",
       "      <th>Quartos</th>\n",
       "      <th>Vagas</th>\n",
       "      <th>Suites</th>\n",
       "      <th>Area</th>\n",
       "      <th>Valor</th>\n",
       "      <th>Condominio</th>\n",
       "      <th>IPTU</th>\n",
       "    </tr>\n",
       "  </thead>\n",
       "  <tbody>\n",
       "    <tr>\n",
       "      <th>0</th>\n",
       "      <td>0</td>\n",
       "      <td>Quitinete</td>\n",
       "      <td>Copacabana</td>\n",
       "      <td>1</td>\n",
       "      <td>0</td>\n",
       "      <td>0</td>\n",
       "      <td>40</td>\n",
       "      <td>1700.0</td>\n",
       "      <td>500.0</td>\n",
       "      <td>60.0</td>\n",
       "    </tr>\n",
       "    <tr>\n",
       "      <th>1</th>\n",
       "      <td>1</td>\n",
       "      <td>Casa</td>\n",
       "      <td>Jardim Botânico</td>\n",
       "      <td>2</td>\n",
       "      <td>0</td>\n",
       "      <td>1</td>\n",
       "      <td>100</td>\n",
       "      <td>7000.0</td>\n",
       "      <td>NaN</td>\n",
       "      <td>NaN</td>\n",
       "    </tr>\n",
       "    <tr>\n",
       "      <th>2</th>\n",
       "      <td>2</td>\n",
       "      <td>Apartamento</td>\n",
       "      <td>Centro</td>\n",
       "      <td>1</td>\n",
       "      <td>0</td>\n",
       "      <td>0</td>\n",
       "      <td>15</td>\n",
       "      <td>800.0</td>\n",
       "      <td>390.0</td>\n",
       "      <td>20.0</td>\n",
       "    </tr>\n",
       "    <tr>\n",
       "      <th>3</th>\n",
       "      <td>3</td>\n",
       "      <td>Apartamento</td>\n",
       "      <td>Higienópolis</td>\n",
       "      <td>1</td>\n",
       "      <td>0</td>\n",
       "      <td>0</td>\n",
       "      <td>48</td>\n",
       "      <td>800.0</td>\n",
       "      <td>230.0</td>\n",
       "      <td>NaN</td>\n",
       "    </tr>\n",
       "    <tr>\n",
       "      <th>4</th>\n",
       "      <td>4</td>\n",
       "      <td>Apartamento</td>\n",
       "      <td>Vista Alegre</td>\n",
       "      <td>3</td>\n",
       "      <td>1</td>\n",
       "      <td>0</td>\n",
       "      <td>70</td>\n",
       "      <td>1200.0</td>\n",
       "      <td>NaN</td>\n",
       "      <td>NaN</td>\n",
       "    </tr>\n",
       "    <tr>\n",
       "      <th>...</th>\n",
       "      <td>...</td>\n",
       "      <td>...</td>\n",
       "      <td>...</td>\n",
       "      <td>...</td>\n",
       "      <td>...</td>\n",
       "      <td>...</td>\n",
       "      <td>...</td>\n",
       "      <td>...</td>\n",
       "      <td>...</td>\n",
       "      <td>...</td>\n",
       "    </tr>\n",
       "    <tr>\n",
       "      <th>22575</th>\n",
       "      <td>22575</td>\n",
       "      <td>Apartamento</td>\n",
       "      <td>Méier</td>\n",
       "      <td>2</td>\n",
       "      <td>0</td>\n",
       "      <td>0</td>\n",
       "      <td>70</td>\n",
       "      <td>900.0</td>\n",
       "      <td>490.0</td>\n",
       "      <td>48.0</td>\n",
       "    </tr>\n",
       "    <tr>\n",
       "      <th>22576</th>\n",
       "      <td>22576</td>\n",
       "      <td>Quitinete</td>\n",
       "      <td>Centro</td>\n",
       "      <td>0</td>\n",
       "      <td>0</td>\n",
       "      <td>0</td>\n",
       "      <td>27</td>\n",
       "      <td>800.0</td>\n",
       "      <td>350.0</td>\n",
       "      <td>25.0</td>\n",
       "    </tr>\n",
       "    <tr>\n",
       "      <th>22577</th>\n",
       "      <td>22577</td>\n",
       "      <td>Apartamento</td>\n",
       "      <td>Jacarepaguá</td>\n",
       "      <td>3</td>\n",
       "      <td>1</td>\n",
       "      <td>2</td>\n",
       "      <td>78</td>\n",
       "      <td>1800.0</td>\n",
       "      <td>800.0</td>\n",
       "      <td>40.0</td>\n",
       "    </tr>\n",
       "    <tr>\n",
       "      <th>22578</th>\n",
       "      <td>22578</td>\n",
       "      <td>Apartamento</td>\n",
       "      <td>São Francisco Xavier</td>\n",
       "      <td>2</td>\n",
       "      <td>1</td>\n",
       "      <td>0</td>\n",
       "      <td>48</td>\n",
       "      <td>1400.0</td>\n",
       "      <td>509.0</td>\n",
       "      <td>37.0</td>\n",
       "    </tr>\n",
       "    <tr>\n",
       "      <th>22579</th>\n",
       "      <td>22579</td>\n",
       "      <td>Apartamento</td>\n",
       "      <td>Leblon</td>\n",
       "      <td>2</td>\n",
       "      <td>0</td>\n",
       "      <td>0</td>\n",
       "      <td>70</td>\n",
       "      <td>3000.0</td>\n",
       "      <td>760.0</td>\n",
       "      <td>NaN</td>\n",
       "    </tr>\n",
       "  </tbody>\n",
       "</table>\n",
       "<p>22580 rows × 10 columns</p>\n",
       "</div>"
      ],
      "text/plain": [
       "       Unnamed: 0         Tipo                Bairro  Quartos  Vagas  Suites  \\\n",
       "0               0    Quitinete            Copacabana        1      0       0   \n",
       "1               1         Casa       Jardim Botânico        2      0       1   \n",
       "2               2  Apartamento                Centro        1      0       0   \n",
       "3               3  Apartamento          Higienópolis        1      0       0   \n",
       "4               4  Apartamento          Vista Alegre        3      1       0   \n",
       "...           ...          ...                   ...      ...    ...     ...   \n",
       "22575       22575  Apartamento                 Méier        2      0       0   \n",
       "22576       22576    Quitinete                Centro        0      0       0   \n",
       "22577       22577  Apartamento           Jacarepaguá        3      1       2   \n",
       "22578       22578  Apartamento  São Francisco Xavier        2      1       0   \n",
       "22579       22579  Apartamento                Leblon        2      0       0   \n",
       "\n",
       "       Area   Valor  Condominio  IPTU  \n",
       "0        40  1700.0       500.0  60.0  \n",
       "1       100  7000.0         NaN   NaN  \n",
       "2        15   800.0       390.0  20.0  \n",
       "3        48   800.0       230.0   NaN  \n",
       "4        70  1200.0         NaN   NaN  \n",
       "...     ...     ...         ...   ...  \n",
       "22575    70   900.0       490.0  48.0  \n",
       "22576    27   800.0       350.0  25.0  \n",
       "22577    78  1800.0       800.0  40.0  \n",
       "22578    48  1400.0       509.0  37.0  \n",
       "22579    70  3000.0       760.0   NaN  \n",
       "\n",
       "[22580 rows x 10 columns]"
      ]
     },
     "execution_count": 3,
     "metadata": {},
     "output_type": "execute_result"
    }
   ],
   "source": [
    "dados = pd.read_csv('dados/aluguel_residencial.csv', sep=';')\n",
    "dados"
   ]
  },
  {
   "cell_type": "markdown",
   "id": "7f631631",
   "metadata": {},
   "source": [
    "### 1)  Selecione somente os imóveis classificados com tipo 'Apartamento'."
   ]
  },
  {
   "cell_type": "code",
   "execution_count": 9,
   "id": "c89b4edd",
   "metadata": {},
   "outputs": [
    {
     "data": {
      "text/plain": [
       "0        False\n",
       "1        False\n",
       "2         True\n",
       "3         True\n",
       "4         True\n",
       "         ...  \n",
       "22575     True\n",
       "22576    False\n",
       "22577     True\n",
       "22578     True\n",
       "22579     True\n",
       "Name: Tipo, Length: 22580, dtype: bool"
      ]
     },
     "execution_count": 9,
     "metadata": {},
     "output_type": "execute_result"
    }
   ],
   "source": [
    "selecao = dados['Tipo'] == 'Apartamento'\n",
    "selecao"
   ]
  },
  {
   "cell_type": "code",
   "execution_count": 12,
   "id": "41003cd1",
   "metadata": {},
   "outputs": [
    {
     "name": "stdout",
     "output_type": "stream",
     "text": [
      "Existem 19532 imóveis do tipo Apartamento\n"
     ]
    }
   ],
   "source": [
    "n1 = dados[selecao].shape[0]\n",
    "print(f'Existem {n1} imóveis do tipo Apartamento')"
   ]
  },
  {
   "cell_type": "markdown",
   "id": "cd276df7",
   "metadata": {},
   "source": [
    "### 2) Selecione os imóveis classificados com tipos 'Casa', 'Casa de Condomínio' e 'Casa de Vila'."
   ]
  },
  {
   "cell_type": "code",
   "execution_count": 32,
   "id": "447e2556",
   "metadata": {},
   "outputs": [],
   "source": [
    "selecao = (dados['Tipo'] == 'Casa') | (dados['Tipo'] == 'Casa de Condomínio') | (dados['Tipo'] == 'Casa de Vila') "
   ]
  },
  {
   "cell_type": "code",
   "execution_count": 35,
   "id": "3ae08692",
   "metadata": {},
   "outputs": [
    {
     "name": "stdout",
     "output_type": "stream",
     "text": [
      "Existem 2212 imóveis do tipo Casa, Casa de Condomínio e Casa de Vila.\n"
     ]
    }
   ],
   "source": [
    "n2 = dados[selecao].shape[0]\n",
    "print(f'Existem {n2} imóveis do tipo Casa, Casa de Condomínio e Casa de Vila.')"
   ]
  },
  {
   "cell_type": "markdown",
   "id": "7efd67dc",
   "metadata": {},
   "source": [
    "### 3) Selecione os imóveis com área entre 60 e 100 metros quadrados, incluindo os limites."
   ]
  },
  {
   "cell_type": "code",
   "execution_count": 41,
   "id": "5f31b9f2",
   "metadata": {},
   "outputs": [],
   "source": [
    "selecao = (dados['Area'] >= 60) & (dados['Area'] <= 100)"
   ]
  },
  {
   "cell_type": "code",
   "execution_count": 42,
   "id": "38444f52",
   "metadata": {},
   "outputs": [
    {
     "name": "stdout",
     "output_type": "stream",
     "text": [
      "Existem 8719 imóveis com área entre 60 e 100 metros quadrados.\n"
     ]
    }
   ],
   "source": [
    "n3 = dados[selecao].shape[0]\n",
    "print(f'Existem {n3} imóveis com área entre 60 e 100 metros quadrados.')"
   ]
  },
  {
   "cell_type": "markdown",
   "id": "bc5bb04e",
   "metadata": {},
   "source": [
    "### 4) Selecione os imóveis que tenham pelo menos 4 quartos e aluguel menor que R$ 2.000,00."
   ]
  },
  {
   "cell_type": "code",
   "execution_count": 45,
   "id": "a4bfcb28",
   "metadata": {},
   "outputs": [],
   "source": [
    "selecao = (dados['Quartos'] >= 4) & (dados['Valor'] < 2000)"
   ]
  },
  {
   "cell_type": "code",
   "execution_count": 49,
   "id": "8a693fec",
   "metadata": {},
   "outputs": [
    {
     "name": "stdout",
     "output_type": "stream",
     "text": [
      "Existem 41 imóveis ue tenham pelo menos 4 quartos e aluguel menor que R$ 2.000,00.\n"
     ]
    }
   ],
   "source": [
    "n4 = dados[selecao].shape[0]\n",
    "print(f'Existem {n4} imóveis ue tenham pelo menos 4 quartos e aluguel menor que R$ 2.000,00.')"
   ]
  },
  {
   "cell_type": "code",
   "execution_count": null,
   "id": "f2d37d53",
   "metadata": {},
   "outputs": [],
   "source": []
  }
 ],
 "metadata": {
  "kernelspec": {
   "display_name": "Python 3 (ipykernel)",
   "language": "python",
   "name": "python3"
  },
  "language_info": {
   "codemirror_mode": {
    "name": "ipython",
    "version": 3
   },
   "file_extension": ".py",
   "mimetype": "text/x-python",
   "name": "python",
   "nbconvert_exporter": "python",
   "pygments_lexer": "ipython3",
   "version": "3.10.0"
  }
 },
 "nbformat": 4,
 "nbformat_minor": 5
}
